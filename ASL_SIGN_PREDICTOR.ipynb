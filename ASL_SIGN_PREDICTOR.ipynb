{
 "cells": [
  {
   "cell_type": "code",
   "execution_count": 1,
   "metadata": {
    "colab": {
     "base_uri": "https://localhost:8080/",
     "height": 34
    },
    "colab_type": "code",
    "id": "AsoY3A9C7Gbe",
    "outputId": "a520a279-2b7e-4038-fbd2-cd317aebfd4b"
   },
   "outputs": [
    {
     "name": "stderr",
     "output_type": "stream",
     "text": [
      "Using TensorFlow backend.\n"
     ]
    }
   ],
   "source": [
    "import pandas as pd\n",
    "import os\n",
    "import numpy as np\n",
    "from keras.models import Sequential,load_model\n",
    "from keras.layers import Dense,Dropout,Flatten,Activation\n",
    "from keras.layers.convolutional import Conv2D,MaxPooling2D,ZeroPadding2D,AveragePooling2D\n",
    "from keras.utils import np_utils\n",
    "import cv2\n",
    "import skimage\n",
    "from sklearn.model_selection import train_test_split\n",
    "from keras.utils.np_utils import to_categorical\n",
    "from sklearn.utils import shuffle\n",
    "from keras.callbacks import ModelCheckpoint"
   ]
  },
  {
   "cell_type": "code",
   "execution_count": 2,
   "metadata": {
    "colab": {
     "base_uri": "https://localhost:8080/",
     "height": 125
    },
    "colab_type": "code",
    "id": "pLmxDXW67OFI",
    "outputId": "f0d57d11-e7a8-428d-fc17-f153ecb3cf26"
   },
   "outputs": [
    {
     "name": "stdout",
     "output_type": "stream",
     "text": [
      "Go to this URL in a browser: https://accounts.google.com/o/oauth2/auth?client_id=947318989803-6bn6qk8qdgf4n4g3pfee6491hc0brc4i.apps.googleusercontent.com&redirect_uri=urn%3Aietf%3Awg%3Aoauth%3A2.0%3Aoob&scope=email%20https%3A%2F%2Fwww.googleapis.com%2Fauth%2Fdocs.test%20https%3A%2F%2Fwww.googleapis.com%2Fauth%2Fdrive%20https%3A%2F%2Fwww.googleapis.com%2Fauth%2Fdrive.photos.readonly%20https%3A%2F%2Fwww.googleapis.com%2Fauth%2Fpeopleapi.readonly&response_type=code\n",
      "\n",
      "Enter your authorization code:\n",
      "··········\n",
      "Mounted at /content/drive\n"
     ]
    }
   ],
   "source": [
    "from google.colab import drive\n",
    "drive.mount('/content/drive')"
   ]
  },
  {
   "cell_type": "code",
   "execution_count": 0,
   "metadata": {
    "colab": {},
    "colab_type": "code",
    "id": "_2Ql4XYw_asE"
   },
   "outputs": [],
   "source": [
    "os.chdir(\"./drive/My Drive/dataset/train/asl_alphabet_train\")"
   ]
  },
  {
   "cell_type": "code",
   "execution_count": 0,
   "metadata": {
    "colab": {},
    "colab_type": "code",
    "id": "V0X0lyPY_0A2"
   },
   "outputs": [],
   "source": [
    "def get_data(start,end):\n",
    "  print(\"Reading Files\")\n",
    "  x=[]\n",
    "  y=[]\n",
    "  vv=-1\n",
    "  for f in os.listdir(\".././asl_alphabet_train\"):\n",
    "    if not f.startswith('.' and 'm'):\n",
    "      if f.startswith('p'):\n",
    "        continue\n",
    "      vv=vv+1\n",
    "      if vv%3==0:\n",
    "        print(\"Files Completed:\")\n",
    "        print(vv)\n",
    "      if f in ['A']:\n",
    "        label=0\n",
    "      elif f in ['B']:\n",
    "        label=1\n",
    "      elif f in ['C']:\n",
    "        label=2\n",
    "      elif f in ['D']:\n",
    "        label=3\n",
    "      elif f in ['E']:\n",
    "        label=4\n",
    "      elif f in ['F']:\n",
    "        label=5\n",
    "      elif f in ['G']:\n",
    "        label=6\n",
    "      elif f in ['H']:\n",
    "        label=7\n",
    "      elif f in ['I']:\n",
    "        label=8\n",
    "      elif f in ['J']:\n",
    "        label=9\n",
    "      elif f in ['K']:\n",
    "        label=10\n",
    "      elif f in ['L']:\n",
    "        label=11\n",
    "      elif f in ['M']:\n",
    "        label=12\n",
    "      elif f in ['N']:\n",
    "        label=13\n",
    "      elif f in ['O']:\n",
    "        label=14\n",
    "      elif f in ['P']:\n",
    "        label=15\n",
    "      elif f in ['Q']:\n",
    "        label=16\n",
    "      elif f in ['R']:\n",
    "        label=17\n",
    "      elif f in ['S']:\n",
    "        label=18\n",
    "      elif f in ['T']:\n",
    "        label=19\n",
    "      elif f in ['U']:\n",
    "        label=20\n",
    "      elif f in ['V']:\n",
    "        label=21\n",
    "      elif f in ['W']:\n",
    "        label=22\n",
    "      elif f in ['X']:\n",
    "        label=23\n",
    "      elif f in ['Y']:\n",
    "        label=24\n",
    "      elif f in ['Z']:\n",
    "        label=25\n",
    "      elif f in ['del']:\n",
    "        label=26\n",
    "      elif f in ['nothing']:\n",
    "        label=27\n",
    "      elif f in ['space']:\n",
    "        label=28\n",
    "      else:\n",
    "        label=29\n",
    "      s1=-1\n",
    "      for image in os.listdir('./'+f):\n",
    "        s1+=1\n",
    "        if s1<start:\n",
    "          continue\n",
    "        if s1>end:\n",
    "          break\n",
    "        img_file=cv2.imread('./'+f+'/'+image)\n",
    "        img_file = cv2.cvtColor(img_file, cv2.COLOR_BGR2GRAY)\n",
    "        #img_file=sobel_converter(img_file)\n",
    "        if img_file is not None:\n",
    "          img_file = skimage.transform.resize(img_file, (50,50,1))\n",
    "          img_arr = np.asarray(img_file)\n",
    "          x.append(img_arr)\n",
    "          y.append(label)\n",
    "  x=np.asarray(x)\n",
    "  y=np.asarray(y)\n",
    "  print(\"Reading Completed\")\n",
    "  return x,y"
   ]
  },
  {
   "cell_type": "code",
   "execution_count": 5,
   "metadata": {
    "colab": {
     "base_uri": "https://localhost:8080/",
     "height": 283
    },
    "colab_type": "code",
    "id": "sH4KqsHOGyud",
    "outputId": "9de65a3c-0aba-4a5f-c8de-8353f76c8073"
   },
   "outputs": [
    {
     "name": "stderr",
     "output_type": "stream",
     "text": [
      "WARNING: Logging before flag parsing goes to stderr.\n",
      "W0721 05:33:10.013012 140645424199552 deprecation_wrapper.py:119] From /usr/local/lib/python3.6/dist-packages/keras/backend/tensorflow_backend.py:74: The name tf.get_default_graph is deprecated. Please use tf.compat.v1.get_default_graph instead.\n",
      "\n",
      "W0721 05:33:10.070698 140645424199552 deprecation_wrapper.py:119] From /usr/local/lib/python3.6/dist-packages/keras/backend/tensorflow_backend.py:517: The name tf.placeholder is deprecated. Please use tf.compat.v1.placeholder instead.\n",
      "\n",
      "W0721 05:33:10.078715 140645424199552 deprecation_wrapper.py:119] From /usr/local/lib/python3.6/dist-packages/keras/backend/tensorflow_backend.py:4138: The name tf.random_uniform is deprecated. Please use tf.random.uniform instead.\n",
      "\n",
      "W0721 05:33:10.132025 140645424199552 deprecation_wrapper.py:119] From /usr/local/lib/python3.6/dist-packages/keras/backend/tensorflow_backend.py:3976: The name tf.nn.max_pool is deprecated. Please use tf.nn.max_pool2d instead.\n",
      "\n",
      "W0721 05:33:10.136213 140645424199552 deprecation_wrapper.py:119] From /usr/local/lib/python3.6/dist-packages/keras/backend/tensorflow_backend.py:133: The name tf.placeholder_with_default is deprecated. Please use tf.compat.v1.placeholder_with_default instead.\n",
      "\n",
      "W0721 05:33:10.151412 140645424199552 deprecation.py:506] From /usr/local/lib/python3.6/dist-packages/keras/backend/tensorflow_backend.py:3445: calling dropout (from tensorflow.python.ops.nn_ops) with keep_prob is deprecated and will be removed in a future version.\n",
      "Instructions for updating:\n",
      "Please use `rate` instead of `keep_prob`. Rate should be set to `rate = 1 - keep_prob`.\n"
     ]
    }
   ],
   "source": [
    "model=Sequential()\n",
    "model.add(Conv2D(32,(2,2),padding='same',input_shape=(50,50,1)))\n",
    "model.add(Activation('relu'))\n",
    "model.add(Conv2D(64,(2,2),padding='same'))\n",
    "model.add(Activation('relu'))\n",
    "model.add(MaxPooling2D(pool_size=(3,3)))\n",
    "model.add(Dropout(0.25))\n",
    "model.add(Conv2D(128,(2,2),padding='same'))\n",
    "model.add(Activation('relu'))\n",
    "model.add(Conv2D(256,(2,2),padding='same'))\n",
    "model.add(Activation('relu'))\n",
    "model.add(MaxPooling2D(pool_size=(3,3)))\n",
    "#model.add(Dropout(0.25))\n",
    "#model.add(Conv2D(256,(2,2),padding='same'))\n",
    "#model.add(Activation('relu'))\n",
    "model.add(Dropout(0.25))\n",
    "model.add(Conv2D(512,(2,2),padding='same'))\n",
    "model.add(Activation('relu'))\n",
    "model.add(Conv2D(512,(2,2),padding='same'))\n",
    "model.add(Activation('relu'))\n",
    "model.add(MaxPooling2D(pool_size=(3,3)))\n",
    "model.add(Flatten())\n",
    "model.add(Dense(512))\n",
    "model.add(Activation('relu'))\n",
    "model.add(Dropout(0.4))\n",
    "#model.add(Dropout(0.2))\n",
    "model.add(Dense(1024))\n",
    "model.add(Activation('relu'))\n",
    "#model.add(Dense(1024))\n",
    "#model.add(Activation('relu'))\n",
    "model.add(Dense(30,activation='softmax'))  "
   ]
  },
  {
   "cell_type": "code",
   "execution_count": 7,
   "metadata": {
    "colab": {
     "base_uri": "https://localhost:8080/",
     "height": 34
    },
    "colab_type": "code",
    "id": "vNOlEao1BlZF",
    "outputId": "b52ab8db-4c7e-400a-9f0e-a02417c78db5"
   },
   "outputs": [
    {
     "data": {
      "text/plain": [
       "'/content/drive/My Drive/dataset/train/asl_alphabet_train'"
      ]
     },
     "execution_count": 7,
     "metadata": {
      "tags": []
     },
     "output_type": "execute_result"
    }
   ],
   "source": [
    "pwd"
   ]
  },
  {
   "cell_type": "code",
   "execution_count": 8,
   "metadata": {
    "colab": {
     "base_uri": "https://localhost:8080/",
     "height": 527
    },
    "colab_type": "code",
    "id": "6tdBHFA6nvLk",
    "outputId": "53877eae-9aac-4072-fc0b-360ba43dcc13"
   },
   "outputs": [
    {
     "name": "stdout",
     "output_type": "stream",
     "text": [
      "Reading Files\n",
      "Files Completed:\n",
      "0\n",
      "Files Completed:\n",
      "3\n",
      "Files Completed:\n",
      "6\n",
      "Files Completed:\n",
      "9\n",
      "Files Completed:\n",
      "12\n",
      "Files Completed:\n",
      "15\n",
      "Files Completed:\n",
      "18\n",
      "Files Completed:\n",
      "21\n",
      "Files Completed:\n",
      "24\n",
      "Files Completed:\n",
      "27\n",
      "Reading Completed\n",
      "[[0. 0. 0. ... 0. 0. 0.]\n",
      " [0. 0. 0. ... 0. 0. 0.]\n",
      " [0. 0. 0. ... 0. 0. 0.]\n",
      " ...\n",
      " [0. 0. 0. ... 0. 0. 0.]\n",
      " [0. 0. 0. ... 0. 0. 0.]\n",
      " [0. 0. 0. ... 0. 0. 0.]]\n"
     ]
    }
   ],
   "source": [
    "x,y=get_data(0,150)\n",
    "y=np_utils.to_categorical(y,num_classes=30)\n",
    "print(y)\n",
    "x,y= shuffle(x,y,random_state=13)"
   ]
  },
  {
   "cell_type": "code",
   "execution_count": 9,
   "metadata": {
    "colab": {
     "base_uri": "https://localhost:8080/",
     "height": 1000
    },
    "colab_type": "code",
    "id": "Q4r2t2SLcDdD",
    "outputId": "8b2a2113-d58b-4c4a-e7eb-74bf6a756e3c"
   },
   "outputs": [
    {
     "name": "stderr",
     "output_type": "stream",
     "text": [
      "W0721 06:11:03.575987 140645424199552 deprecation_wrapper.py:119] From /usr/local/lib/python3.6/dist-packages/keras/optimizers.py:790: The name tf.train.Optimizer is deprecated. Please use tf.compat.v1.train.Optimizer instead.\n",
      "\n",
      "W0721 06:11:03.616619 140645424199552 deprecation_wrapper.py:119] From /usr/local/lib/python3.6/dist-packages/keras/backend/tensorflow_backend.py:3295: The name tf.log is deprecated. Please use tf.math.log instead.\n",
      "\n",
      "W0721 06:11:03.767424 140645424199552 deprecation.py:323] From /usr/local/lib/python3.6/dist-packages/tensorflow/python/ops/math_grad.py:1250: add_dispatch_support.<locals>.wrapper (from tensorflow.python.ops.array_ops) is deprecated and will be removed in a future version.\n",
      "Instructions for updating:\n",
      "Use tf.where in 2.0, which has the same broadcast rule as np.where\n"
     ]
    },
    {
     "name": "stdout",
     "output_type": "stream",
     "text": [
      "Epoch 1/30\n",
      "4379/4379 [==============================] - 11s 3ms/step - loss: 3.3897 - acc: 0.0288\n",
      "\n",
      "Epoch 00001: loss improved from inf to 3.38968, saving model to model1.h5\n",
      "Epoch 2/30\n",
      "4379/4379 [==============================] - 5s 1ms/step - loss: 3.3777 - acc: 0.0279\n",
      "\n",
      "Epoch 00002: loss improved from 3.38968 to 3.37768, saving model to model1.h5\n",
      "Epoch 3/30\n",
      "4379/4379 [==============================] - 5s 1ms/step - loss: 3.3760 - acc: 0.0274\n",
      "\n",
      "Epoch 00003: loss improved from 3.37768 to 3.37600, saving model to model1.h5\n",
      "Epoch 4/30\n",
      "4379/4379 [==============================] - 5s 1ms/step - loss: 3.3701 - acc: 0.0329\n",
      "\n",
      "Epoch 00004: loss improved from 3.37600 to 3.37007, saving model to model1.h5\n",
      "Epoch 5/30\n",
      "4379/4379 [==============================] - 5s 1ms/step - loss: 3.0834 - acc: 0.0799\n",
      "\n",
      "Epoch 00005: loss improved from 3.37007 to 3.08342, saving model to model1.h5\n",
      "Epoch 6/30\n",
      "4379/4379 [==============================] - 5s 1ms/step - loss: 2.6789 - acc: 0.1624\n",
      "\n",
      "Epoch 00006: loss improved from 3.08342 to 2.67891, saving model to model1.h5\n",
      "Epoch 7/30\n",
      "4379/4379 [==============================] - 5s 1ms/step - loss: 2.1283 - acc: 0.3069\n",
      "\n",
      "Epoch 00007: loss improved from 2.67891 to 2.12827, saving model to model1.h5\n",
      "Epoch 8/30\n",
      "4379/4379 [==============================] - 5s 1ms/step - loss: 1.5514 - acc: 0.4782\n",
      "\n",
      "Epoch 00008: loss improved from 2.12827 to 1.55143, saving model to model1.h5\n",
      "Epoch 9/30\n",
      "4379/4379 [==============================] - 5s 1ms/step - loss: 1.1473 - acc: 0.6042\n",
      "\n",
      "Epoch 00009: loss improved from 1.55143 to 1.14730, saving model to model1.h5\n",
      "Epoch 10/30\n",
      "4379/4379 [==============================] - 5s 1ms/step - loss: 0.8949 - acc: 0.6807\n",
      "\n",
      "Epoch 00010: loss improved from 1.14730 to 0.89492, saving model to model1.h5\n",
      "Epoch 11/30\n",
      "4379/4379 [==============================] - 5s 1ms/step - loss: 0.7792 - acc: 0.7225\n",
      "\n",
      "Epoch 00011: loss improved from 0.89492 to 0.77917, saving model to model1.h5\n",
      "Epoch 12/30\n",
      "4379/4379 [==============================] - 5s 1ms/step - loss: 0.6016 - acc: 0.7821\n",
      "\n",
      "Epoch 00012: loss improved from 0.77917 to 0.60161, saving model to model1.h5\n",
      "Epoch 13/30\n",
      "4379/4379 [==============================] - 5s 1ms/step - loss: 0.5352 - acc: 0.8061\n",
      "\n",
      "Epoch 00013: loss improved from 0.60161 to 0.53520, saving model to model1.h5\n",
      "Epoch 14/30\n",
      "4379/4379 [==============================] - 5s 1ms/step - loss: 0.4719 - acc: 0.8360\n",
      "\n",
      "Epoch 00014: loss improved from 0.53520 to 0.47193, saving model to model1.h5\n",
      "Epoch 15/30\n",
      "4379/4379 [==============================] - 5s 1ms/step - loss: 0.4040 - acc: 0.8561\n",
      "\n",
      "Epoch 00015: loss improved from 0.47193 to 0.40399, saving model to model1.h5\n",
      "Epoch 16/30\n",
      "4379/4379 [==============================] - 5s 1ms/step - loss: 0.3809 - acc: 0.8660\n",
      "\n",
      "Epoch 00016: loss improved from 0.40399 to 0.38087, saving model to model1.h5\n",
      "Epoch 17/30\n",
      "4379/4379 [==============================] - 5s 1ms/step - loss: 0.3341 - acc: 0.8822\n",
      "\n",
      "Epoch 00017: loss improved from 0.38087 to 0.33408, saving model to model1.h5\n",
      "Epoch 18/30\n",
      "4379/4379 [==============================] - 5s 1ms/step - loss: 0.2931 - acc: 0.8956\n",
      "\n",
      "Epoch 00018: loss improved from 0.33408 to 0.29308, saving model to model1.h5\n",
      "Epoch 19/30\n",
      "4379/4379 [==============================] - 5s 1ms/step - loss: 0.2945 - acc: 0.9007\n",
      "\n",
      "Epoch 00019: loss did not improve from 0.29308\n",
      "Epoch 20/30\n",
      "4379/4379 [==============================] - 5s 1ms/step - loss: 0.2382 - acc: 0.9171\n",
      "\n",
      "Epoch 00020: loss improved from 0.29308 to 0.23820, saving model to model1.h5\n",
      "Epoch 21/30\n",
      "4379/4379 [==============================] - 5s 1ms/step - loss: 0.2625 - acc: 0.9103\n",
      "\n",
      "Epoch 00021: loss did not improve from 0.23820\n",
      "Epoch 22/30\n",
      "4379/4379 [==============================] - 5s 1ms/step - loss: 0.2223 - acc: 0.9249\n",
      "\n",
      "Epoch 00022: loss improved from 0.23820 to 0.22226, saving model to model1.h5\n",
      "Epoch 23/30\n",
      "4379/4379 [==============================] - 5s 1ms/step - loss: 0.2150 - acc: 0.9274\n",
      "\n",
      "Epoch 00023: loss improved from 0.22226 to 0.21502, saving model to model1.h5\n",
      "Epoch 24/30\n",
      "4379/4379 [==============================] - 5s 1ms/step - loss: 0.2020 - acc: 0.9333\n",
      "\n",
      "Epoch 00024: loss improved from 0.21502 to 0.20203, saving model to model1.h5\n",
      "Epoch 25/30\n",
      "4379/4379 [==============================] - 5s 1ms/step - loss: 0.1945 - acc: 0.9338\n",
      "\n",
      "Epoch 00025: loss improved from 0.20203 to 0.19450, saving model to model1.h5\n",
      "Epoch 26/30\n",
      "4379/4379 [==============================] - 5s 1ms/step - loss: 0.1715 - acc: 0.9420\n",
      "\n",
      "Epoch 00026: loss improved from 0.19450 to 0.17147, saving model to model1.h5\n",
      "Epoch 27/30\n",
      "4379/4379 [==============================] - 5s 1ms/step - loss: 0.1524 - acc: 0.9456\n",
      "\n",
      "Epoch 00027: loss improved from 0.17147 to 0.15240, saving model to model1.h5\n",
      "Epoch 28/30\n",
      "4379/4379 [==============================] - 5s 1ms/step - loss: 0.1789 - acc: 0.9402\n",
      "\n",
      "Epoch 00028: loss did not improve from 0.15240\n",
      "Epoch 29/30\n",
      "4379/4379 [==============================] - 5s 1ms/step - loss: 0.1595 - acc: 0.9436\n",
      "\n",
      "Epoch 00029: loss did not improve from 0.15240\n",
      "Epoch 30/30\n",
      "4379/4379 [==============================] - 5s 1ms/step - loss: 0.1610 - acc: 0.9498\n",
      "\n",
      "Epoch 00030: loss did not improve from 0.15240\n"
     ]
    }
   ],
   "source": [
    "model.compile(optimizer='adam',loss='categorical_crossentropy',metrics=['accuracy'])\n",
    "\n",
    "filepath=\"model1.h5\"\n",
    "checkpoint = ModelCheckpoint(filepath, monitor='loss', verbose=1, save_best_only=True, mode='min')\n",
    "callbacks_list = [checkpoint]\n",
    "\n",
    "model.fit(x,y,epochs=30,batch_size=32,verbose=1,callbacks=callbacks_list)\n",
    "checkpoint = ModelCheckpoint(filepath, monitor='loss', verbose=1, save_best_only=True, mode='min')\n",
    "callbacks_list = [checkpoint]"
   ]
  },
  {
   "cell_type": "markdown",
   "metadata": {
    "colab_type": "text",
    "id": "lPneNl3uvP1A"
   },
   "source": []
  },
  {
   "cell_type": "code",
   "execution_count": 0,
   "metadata": {
    "colab": {},
    "colab_type": "code",
    "id": "aHEc3DIeRpGM"
   },
   "outputs": [],
   "source": [
    "from IPython.display import display, Javascript\n",
    "from google.colab.output import eval_js\n",
    "from base64 import b64decode\n",
    "\n",
    "def take_photo(filename='photo.jpg', quality=0.8):\n",
    "  js = Javascript('''\n",
    "    async function takePhoto(quality) {\n",
    "      const div = document.createElement('div');\n",
    "      const capture = document.createElement('button');\n",
    "      capture.textContent = 'Capture';\n",
    "      div.appendChild(capture);\n",
    "\n",
    "      const video = document.createElement('video');\n",
    "      video.style.display = 'block';\n",
    "      const stream = await navigator.mediaDevices.getUserMedia({video: true});\n",
    "\n",
    "      document.body.appendChild(div);\n",
    "      div.appendChild(video);\n",
    "      video.srcObject = stream;\n",
    "      await video.play();\n",
    "\n",
    "      // Resize the output to fit the video element.\n",
    "      google.colab.output.setIframeHeight(document.documentElement.scrollHeight, true);\n",
    "\n",
    "      // Wait for Capture to be clicked.\n",
    "      await new Promise((resolve) => capture.onclick = resolve);\n",
    "\n",
    "      const canvas = document.createElement('canvas');\n",
    "      canvas.width = video.videoWidth;\n",
    "      canvas.height = video.videoHeight;\n",
    "      canvas.getContext('2d').drawImage(video, 0, 0);\n",
    "      stream.getVideoTracks()[0].stop();\n",
    "      div.remove();\n",
    "      return canvas.toDataURL('image/jpeg', quality);\n",
    "    }\n",
    "    ''')\n",
    "  display(js)\n",
    "  data = eval_js('takePhoto({})'.format(quality))\n",
    "  binary = b64decode(data.split(',')[1])\n",
    "  with open(filename, 'wb') as f:\n",
    "    f.write(binary)\n",
    "  return filename"
   ]
  },
  {
   "cell_type": "code",
   "execution_count": 145,
   "metadata": {
    "colab": {
     "base_uri": "https://localhost:8080/",
     "height": 514
    },
    "colab_type": "code",
    "id": "oEKFUT0wTK_j",
    "outputId": "12495521-3e23-4156-acfd-8e2755a928f4"
   },
   "outputs": [
    {
     "data": {
      "application/javascript": [
       "\n",
       "    async function takePhoto(quality) {\n",
       "      const div = document.createElement('div');\n",
       "      const capture = document.createElement('button');\n",
       "      capture.textContent = 'Capture';\n",
       "      div.appendChild(capture);\n",
       "\n",
       "      const video = document.createElement('video');\n",
       "      video.style.display = 'block';\n",
       "      const stream = await navigator.mediaDevices.getUserMedia({video: true});\n",
       "\n",
       "      document.body.appendChild(div);\n",
       "      div.appendChild(video);\n",
       "      video.srcObject = stream;\n",
       "      await video.play();\n",
       "\n",
       "      // Resize the output to fit the video element.\n",
       "      google.colab.output.setIframeHeight(document.documentElement.scrollHeight, true);\n",
       "\n",
       "      // Wait for Capture to be clicked.\n",
       "      await new Promise((resolve) => capture.onclick = resolve);\n",
       "\n",
       "      const canvas = document.createElement('canvas');\n",
       "      canvas.width = video.videoWidth;\n",
       "      canvas.height = video.videoHeight;\n",
       "      canvas.getContext('2d').drawImage(video, 0, 0);\n",
       "      stream.getVideoTracks()[0].stop();\n",
       "      div.remove();\n",
       "      return canvas.toDataURL('image/jpeg', quality);\n",
       "    }\n",
       "    "
      ],
      "text/plain": [
       "<IPython.core.display.Javascript object>"
      ]
     },
     "metadata": {
      "tags": []
     },
     "output_type": "display_data"
    },
    {
     "name": "stdout",
     "output_type": "stream",
     "text": [
      "Saved to photo.jpg\n"
     ]
    },
    {
     "data": {
      "image/jpeg": "[encoded data removed]",
      "text/plain": [
       "<IPython.core.display.Image object>"
      ]
     },
     "metadata": {
      "tags": []
     },
     "output_type": "display_data"
    }
   ],
   "source": [
    "from IPython.display import Image\n",
    "try:\n",
    "  filename = take_photo()\n",
    "  print('Saved to {}'.format(filename))\n",
    "  \n",
    "  # Show the image which was just taken.\n",
    "  display(Image(filename))\n",
    "except Exception as err:\n",
    "  # Errors will be thrown if the user does not have a webcam or if they do not\n",
    "  # grant the page permission to access it.\n",
    "  print(str(err))"
   ]
  },
  {
   "cell_type": "code",
   "execution_count": 0,
   "metadata": {
    "colab": {},
    "colab_type": "code",
    "id": "y_lEYw2kMbx8"
   },
   "outputs": [],
   "source": [
    "n=load_model(\"model1.h5\")"
   ]
  },
  {
   "cell_type": "code",
   "execution_count": 146,
   "metadata": {
    "colab": {
     "base_uri": "https://localhost:8080/",
     "height": 158
    },
    "colab_type": "code",
    "id": "iH5XFF5gTYx6",
    "outputId": "2cc559d3-7a74-49e7-d921-fbebc04338a1"
   },
   "outputs": [
    {
     "data": {
      "text/plain": [
       "array([[1.32521185e-14, 7.65890208e-16, 7.19505566e-11, 8.91911823e-16,\n",
       "        1.33140704e-13, 4.94088802e-15, 2.34405899e-08, 5.15870102e-09,\n",
       "        1.45056069e-14, 1.33833140e-07, 8.88601089e-15, 2.19412069e-15,\n",
       "        3.76178498e-11, 8.33045100e-09, 2.89447684e-08, 6.61506832e-08,\n",
       "        3.33867746e-07, 1.92324756e-09, 1.14605058e-07, 3.30555527e-10,\n",
       "        5.62985804e-07, 3.93427015e-08, 9.42509126e-11, 3.02344233e-06,\n",
       "        1.17135801e-09, 6.65153349e-11, 9.84752502e-10, 9.99995708e-01,\n",
       "        2.19955765e-09, 1.27824002e-20]], dtype=float32)"
      ]
     },
     "execution_count": 146,
     "metadata": {
      "tags": []
     },
     "output_type": "execute_result"
    }
   ],
   "source": [
    "op2=[]\n",
    "op=cv2.imread('./photo.jpg')\n",
    "#op=sobel_converter(op)\n",
    "op = cv2.cvtColor(op, cv2.COLOR_BGR2GRAY)\n",
    "op1 = skimage.transform.resize(op, (50,50,1))\n",
    "img_arr = np.asarray(op1)\n",
    "op2.append(img_arr)\n",
    "op2=np.asarray(op2)\n",
    "op3=n.predict(op2)\n",
    "op3#This is an array consisting the probability of each label"
   ]
  },
  {
   "cell_type": "code",
   "execution_count": 147,
   "metadata": {
    "colab": {
     "base_uri": "https://localhost:8080/",
     "height": 34
    },
    "colab_type": "code",
    "id": "szQK4X0FWcsy",
    "outputId": "29d5c6c4-ef62-4725-954a-bb61297a8e6b"
   },
   "outputs": [
    {
     "name": "stdout",
     "output_type": "stream",
     "text": [
      "nothing\n"
     ]
    }
   ],
   "source": [
    "#Prints the predicted letter\n",
    "z=-1\n",
    "i1=-1\n",
    "for i in range(0,30):\n",
    "  if z<op3[0][i]:\n",
    "    z=op3[0][i]\n",
    "    i1=i\n",
    "if i1==0:\n",
    "  print('A')\n",
    "elif i1==1:\n",
    "  print('B')\n",
    "elif i1==2:\n",
    "  print('C')\n",
    "elif i1==3:\n",
    "  print('D')\n",
    "elif i1==4:\n",
    "  print('E')\n",
    "elif i1==5:\n",
    "  print('F')\n",
    "elif i1==6:\n",
    "  print('G')\n",
    "elif i1==7:\n",
    "  print('H')\n",
    "elif i1==8:\n",
    "  print('I')\n",
    "elif i1==9:\n",
    "  print('J')\n",
    "elif i1==10:\n",
    "  print('K')\n",
    "elif i1==11:\n",
    "  print('L')\n",
    "elif i1==12:\n",
    "  print('M')\n",
    "elif i1==13:\n",
    "  print('N')\n",
    "elif i1==14:\n",
    "  print('O')\n",
    "elif i1==15:\n",
    "  print('P')\n",
    "elif i1==16:\n",
    "  print('Q')\n",
    "elif i1==17:\n",
    "  print('R')\n",
    "elif i1==18:\n",
    "  print('S')\n",
    "elif i1==19:\n",
    "  print('T')\n",
    "elif i1==20:\n",
    "  print('U')\n",
    "elif i1==21:\n",
    "  print('V')\n",
    "elif i1==22:\n",
    "  print('W')\n",
    "elif i1==23:\n",
    "  print('X')\n",
    "elif i1==24:\n",
    "  print('Y')\n",
    "elif i1==25:\n",
    "  print('Z')\n",
    "elif i1==26:\n",
    "  print('del')\n",
    "elif i1==27:\n",
    "  print('nothing')\n",
    "elif i1==28:\n",
    "  print('space')\n",
    "elif i1==29:\n",
    "  print('else') "
   ]
  }
 ],
 "metadata": {
  "accelerator": "GPU",
  "colab": {
   "collapsed_sections": [],
   "name": "ASL_SIGN_PREDICTOR",
   "provenance": [],
   "version": "0.3.2"
  },
  "kernelspec": {
   "display_name": "Python 3",
   "language": "python",
   "name": "python3"
  },
  "language_info": {
   "codemirror_mode": {
    "name": "ipython",
    "version": 3
   },
   "file_extension": ".py",
   "mimetype": "text/x-python",
   "name": "python",
   "nbconvert_exporter": "python",
   "pygments_lexer": "ipython3",
   "version": "3.6.5"
  }
 },
 "nbformat": 4,
 "nbformat_minor": 1
}
