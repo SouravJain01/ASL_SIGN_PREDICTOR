{
 "cells": [
  {
   "cell_type": "code",
   "execution_count": null,
   "metadata": {
    "colab": {
     "base_uri": "https://localhost:8080/",
     "height": 34
    },
    "colab_type": "code",
    "id": "AsoY3A9C7Gbe",
    "outputId": "a520a279-2b7e-4038-fbd2-cd317aebfd4b"
   },
   "outputs": [],
   "source": [
    "import pandas as pd\n",
    "import os\n",
    "import numpy as np\n",
    "from keras.models import Sequential,load_model\n",
    "from keras.layers import Dense,Dropout,Flatten,Activation\n",
    "from keras.layers.convolutional import Conv2D,MaxPooling2D,ZeroPadding2D,AveragePooling2D\n",
    "from keras.utils import np_utils\n",
    "import cv2\n",
    "import skimage\n",
    "from sklearn.model_selection import train_test_split\n",
    "from keras.utils.np_utils import to_categorical\n",
    "from sklearn.utils import shuffle\n",
    "from keras.callbacks import ModelCheckpoint"
   ]
  },
  {
   "cell_type": "code",
   "execution_count": null,
   "metadata": {
    "colab": {},
    "colab_type": "code",
    "id": "V0X0lyPY_0A2",
    "scrolled": true
   },
   "outputs": [],
   "source": [
    "def get_data(start,end):\n",
    "  print(\"Reading Files\")\n",
    "  x=[]\n",
    "  y=[]\n",
    "  vv=-1\n",
    "  d=0\n",
    "  for f in os.listdir(\"asl_alphabet_train\"):\n",
    "    if not f.startswith('.' and 'm'):\n",
    "      if f.startswith('p'):\n",
    "        continue\n",
    "      vv=vv+1\n",
    "      if vv%3==0:\n",
    "        print(\"Files Completed:\")\n",
    "        print(vv)\n",
    "      if f in ['A']:\n",
    "        label=0\n",
    "      elif f in ['B']:\n",
    "        label=1\n",
    "      elif f in ['C']:\n",
    "        label=2\n",
    "      elif f in ['D']:\n",
    "        label=3\n",
    "      elif f in ['E']:\n",
    "        label=4\n",
    "      elif f in ['F']:\n",
    "        label=5\n",
    "      elif f in ['G']:\n",
    "        label=6\n",
    "      elif f in ['H']:\n",
    "        label=7\n",
    "      elif f in ['I']:\n",
    "        label=8\n",
    "      elif f in ['J']:\n",
    "        label=9\n",
    "      elif f in ['K']:\n",
    "        label=10\n",
    "      elif f in ['L']:\n",
    "        label=11\n",
    "      elif f in ['M']:\n",
    "        label=12\n",
    "      elif f in ['N']:\n",
    "        label=13\n",
    "      elif f in ['O']:\n",
    "        label=14\n",
    "      elif f in ['P']:\n",
    "        label=15\n",
    "      elif f in ['Q']:\n",
    "        label=16\n",
    "      elif f in ['R']:\n",
    "        label=17\n",
    "      elif f in ['S']:\n",
    "        label=18\n",
    "      elif f in ['T']:\n",
    "        label=19\n",
    "      elif f in ['U']:\n",
    "        label=20\n",
    "      elif f in ['V']:\n",
    "        label=21\n",
    "      elif f in ['W']:\n",
    "        label=22\n",
    "      elif f in ['X']:\n",
    "        label=23\n",
    "      elif f in ['Y']:\n",
    "        label=24\n",
    "      elif f in ['Z']:\n",
    "        label=25\n",
    "      elif f in ['del']:\n",
    "        label=26\n",
    "      elif f in ['nothing']:\n",
    "        label=27\n",
    "      elif f in ['space']:\n",
    "        label=28\n",
    "      else:\n",
    "        label=29\n",
    "      s1=-1\n",
    "      for image in os.listdir('./asl_alphabet_train/'+f):\n",
    "        d=d+1\n",
    "        s1+=1\n",
    "        if s1<start:\n",
    "          continue\n",
    "        if s1>end:\n",
    "          break\n",
    "        img_file=cv2.imread('./asl_alphabet_train/'+f+'/'+image)\n",
    "        #img_file = cv2.cvtColor(img_file, cv2.COLOR_BGR2GRAY)\n",
    "        img_file1=cv2.cvtColor(img_file, cv2.COLOR_BGR2HSV)\n",
    "        lower = np.array([0,40,12])\n",
    "        upper = np.array([190,202,220])\n",
    "        mask = cv2.inRange(img_file1, lower, upper)\n",
    "        res = cv2.bitwise_and(img_file,img_file, mask= mask)\n",
    "        mask1=cv2.bitwise_not(res)\n",
    "        res1 = cv2.bitwise_or(mask1,mask1, mask= mask)\n",
    "        img_file=cv2.bitwise_not(res1)\n",
    "        img_file=cv2.cvtColor(img_file,cv2.COLOR_BGR2GRAY)        \n",
    "        k=np.ones((2,1),np.uint8)\n",
    "        img_file=cv2.erode(img_file,k,iterations=2)\n",
    "        q12=img_file\n",
    "        #img_file=sobel_converter(img_file)\n",
    "        if img_file is not None:\n",
    "            \n",
    "            img_file = cv2.resize(img_file,(50,50),interpolation=cv2.INTER_AREA)\n",
    "            img_arr = np.asarray(img_file)\n",
    "            x.append(img_arr)\n",
    "            y.append(label)\n",
    "            #cv2.imwrite(os.path.join('sample','test '+str(d)+'.jpg'),q12)\n",
    "            \n",
    "  x=np.asarray(x)\n",
    "  y=np.asarray(y)\n",
    "  print(\"Reading Completed\")\n",
    "  x=x.reshape(x.shape[0],x.shape[1],x.shape[2],1)\n",
    "  return x,y"
   ]
  },
  {
   "cell_type": "code",
   "execution_count": null,
   "metadata": {
    "colab": {
     "base_uri": "https://localhost:8080/",
     "height": 527
    },
    "colab_type": "code",
    "id": "6tdBHFA6nvLk",
    "outputId": "53877eae-9aac-4072-fc0b-360ba43dcc13",
    "scrolled": true
   },
   "outputs": [],
   "source": [
    "x,y=get_data(0,150)\n",
    "y=np_utils.to_categorical(y,num_classes=30)\n",
    "print(y)\n",
    "x,y= shuffle(x,y,random_state=13)"
   ]
  },
  {
   "cell_type": "code",
   "execution_count": null,
   "metadata": {
    "colab": {
     "base_uri": "https://localhost:8080/",
     "height": 283
    },
    "colab_type": "code",
    "id": "sH4KqsHOGyud",
    "outputId": "9de65a3c-0aba-4a5f-c8de-8353f76c8073",
    "scrolled": true
   },
   "outputs": [],
   "source": [
    "def get_model():\n",
    "    model=Sequential()\n",
    "    model.add(Conv2D(32,(2,2),padding='same',input_shape=(50,50,1)))\n",
    "    model.add(Activation('relu'))\n",
    "    model.add(Conv2D(64,(2,2),padding='same'))\n",
    "    model.add(Activation('relu'))\n",
    "    model.add(MaxPooling2D(pool_size=(3,3)))\n",
    "    model.add(Dropout(0.25))\n",
    "    model.add(Conv2D(128,(2,2),padding='same'))\n",
    "    model.add(Activation('relu'))\n",
    "    model.add(Conv2D(256,(2,2),padding='same'))\n",
    "    model.add(Activation('relu'))\n",
    "    model.add(MaxPooling2D(pool_size=(3,3)))\n",
    "    model.add(Dropout(0.25))\n",
    "    model.add(Conv2D(512,(2,2),padding='same'))\n",
    "    model.add(Activation('relu'))\n",
    "    model.add(Conv2D(512,(2,2),padding='same'))\n",
    "    model.add(Activation('relu'))\n",
    "    model.add(MaxPooling2D(pool_size=(3,3)))\n",
    "    model.add(Flatten())\n",
    "    model.add(Dense(512))\n",
    "    model.add(Activation('relu'))\n",
    "    model.add(Dropout(0.4))\n",
    "    model.add(Dense(1024))\n",
    "    model.add(Activation('relu'))\n",
    "    model.add(Dense(30,activation='softmax'))  \n",
    "    return model\n"
   ]
  },
  {
   "cell_type": "code",
   "execution_count": null,
   "metadata": {
    "scrolled": true
   },
   "outputs": [],
   "source": [
    "model=get_model()"
   ]
  },
  {
   "cell_type": "code",
   "execution_count": null,
   "metadata": {
    "scrolled": true
   },
   "outputs": [],
   "source": [
    "x.shape"
   ]
  },
  {
   "cell_type": "code",
   "execution_count": null,
   "metadata": {
    "colab": {
     "base_uri": "https://localhost:8080/",
     "height": 1000
    },
    "colab_type": "code",
    "id": "Q4r2t2SLcDdD",
    "outputId": "8b2a2113-d58b-4c4a-e7eb-74bf6a756e3c",
    "scrolled": false
   },
   "outputs": [],
   "source": [
    "model.compile(optimizer='adam',loss='categorical_crossentropy',metrics=['accuracy'])\n",
    "\n",
    "filepath=\"model4.h5\"\n",
    "checkpoint = ModelCheckpoint(filepath, monitor='loss', verbose=1, save_best_only=True, mode='min')\n",
    "callbacks_list = [checkpoint]\n",
    "\n",
    "model.fit(x,y,epochs=10,batch_size=32,verbose=1,callbacks=callbacks_list)\n",
    "checkpoint = ModelCheckpoint(filepath, monitor='loss', verbose=1, save_best_only=True, mode='min')\n",
    "callbacks_list = [checkpoint]"
   ]
  },
  {
   "cell_type": "code",
   "execution_count": null,
   "metadata": {
    "scrolled": true
   },
   "outputs": [],
   "source": [
    "model.compile(optimizer='adam',loss='categorical_crossentropy',metrics=['accuracy'])"
   ]
  },
  {
   "cell_type": "code",
   "execution_count": null,
   "metadata": {
    "scrolled": false
   },
   "outputs": [],
   "source": [
    "new_model=load_model(\"model4.h5\")\n",
    "for i in range(1,10):\n",
    "    print(i)\n",
    "    start=i*250\n",
    "    end=(i+1)*250\n",
    "    x,y=get_data(start,end)\n",
    "    y=np_utils.to_categorical(y,num_classes=30)\n",
    "    x,y= shuffle(x,y,random_state=13)\n",
    "    new_model = load_model(\"model4.h5\")\n",
    "    checkpoint = ModelCheckpoint(filepath, monitor='loss', verbose=1, save_best_only=True, mode='min')\n",
    "    callbacks_list = [checkpoint]\n",
    "    new_model.fit(x,y,epochs=5,batch_size=32, callbacks=callbacks_list)\n",
    "    checkpoint = ModelCheckpoint(filepath, monitor='loss', verbose=1, save_best_only=True, mode='min')\n",
    "    callbacks_list = [checkpoint]"
   ]
  },
  {
   "cell_type": "code",
   "execution_count": null,
   "metadata": {
    "scrolled": true
   },
   "outputs": [],
   "source": [
    "import matplotlib.pyplot as plt\n",
    "\n",
    "plt.plot(model.history.history['accuracy'])\n",
    "plt.plot(model.history.history['loss'])\n",
    "\n",
    "plt.show()"
   ]
  }
 ],
 "metadata": {
  "accelerator": "GPU",
  "colab": {
   "collapsed_sections": [],
   "name": "ASL_SIGN_PREDICTOR",
   "provenance": [],
   "version": "0.3.2"
  },
  "kernelspec": {
   "display_name": "Python 3",
   "language": "python",
   "name": "python3"
  },
  "language_info": {
   "codemirror_mode": {
    "name": "ipython",
    "version": 3
   },
   "file_extension": ".py",
   "mimetype": "text/x-python",
   "name": "python",
   "nbconvert_exporter": "python",
   "pygments_lexer": "ipython3",
   "version": "3.6.5"
  }
 },
 "nbformat": 4,
 "nbformat_minor": 1
}
